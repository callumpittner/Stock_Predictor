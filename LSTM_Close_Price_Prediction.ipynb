{
  "nbformat": 4,
  "nbformat_minor": 0,
  "metadata": {
    "colab": {
      "name": "LSTM Close Price Prediction",
      "provenance": [],
      "collapsed_sections": []
    },
    "kernelspec": {
      "display_name": "Python 3",
      "name": "python3"
    }
  },
  "cells": [
    {
      "cell_type": "code",
      "metadata": {
        "id": "O67tNwgtKnx0"
      },
      "source": [
        "import pandas as pd\n",
        "import pandas_datareader as pdr\n",
        "import numpy as np\n",
        "import matplotlib.pyplot as plt\n",
        "import datetime as dt\n",
        "from sklearn.preprocessing import MinMaxScaler\n",
        "from tensorflow.keras.models import Sequential\n",
        "from tensorflow.keras.layers import Dense, LSTM\n"
      ],
      "execution_count": null,
      "outputs": []
    },
    {
      "cell_type": "markdown",
      "metadata": {
        "id": "8L2dlH2P_Nk4"
      },
      "source": [
        "Author: Callum Pittner cap37\n",
        "\n",
        "---\n",
        "\n",
        "\n",
        "Date: 28/04/2021\n",
        "\n",
        "---\n",
        "\n",
        "\n",
        "Version: 2.0"
      ]
    },
    {
      "cell_type": "markdown",
      "metadata": {
        "id": "8K_x3skjLVJT"
      },
      "source": [
        "GATHER STOCK DATA ->"
      ]
    },
    {
      "cell_type": "code",
      "metadata": {
        "id": "xvyuEOTqLHc2"
      },
      "source": [
        "#Specified Stock tag\n",
        "ticker = 'AAPL'"
      ],
      "execution_count": null,
      "outputs": []
    },
    {
      "cell_type": "code",
      "metadata": {
        "id": "FLgnkMJZLPoj"
      },
      "source": [
        "#Declare the start and end times for the training dataset\n",
        "training_start = dt.datetime(2000,1,1)\n",
        "training_end = dt.datetime(2020, 1, 1)\n",
        "\n",
        "data = pdr.DataReader(ticker, 'yahoo', training_start, training_end)"
      ],
      "execution_count": null,
      "outputs": []
    },
    {
      "cell_type": "code",
      "metadata": {
        "colab": {
          "base_uri": "https://localhost:8080/",
          "height": 450
        },
        "id": "4N1JCzAjLSCD",
        "outputId": "9f026905-b138-46c5-fd38-0dfc02dc4adb"
      },
      "source": [
        "data"
      ],
      "execution_count": null,
      "outputs": [
        {
          "output_type": "execute_result",
          "data": {
            "text/html": [
              "<div>\n",
              "<style scoped>\n",
              "    .dataframe tbody tr th:only-of-type {\n",
              "        vertical-align: middle;\n",
              "    }\n",
              "\n",
              "    .dataframe tbody tr th {\n",
              "        vertical-align: top;\n",
              "    }\n",
              "\n",
              "    .dataframe thead th {\n",
              "        text-align: right;\n",
              "    }\n",
              "</style>\n",
              "<table border=\"1\" class=\"dataframe\">\n",
              "  <thead>\n",
              "    <tr style=\"text-align: right;\">\n",
              "      <th></th>\n",
              "      <th>High</th>\n",
              "      <th>Low</th>\n",
              "      <th>Open</th>\n",
              "      <th>Close</th>\n",
              "      <th>Volume</th>\n",
              "      <th>Adj Close</th>\n",
              "    </tr>\n",
              "    <tr>\n",
              "      <th>Date</th>\n",
              "      <th></th>\n",
              "      <th></th>\n",
              "      <th></th>\n",
              "      <th></th>\n",
              "      <th></th>\n",
              "      <th></th>\n",
              "    </tr>\n",
              "  </thead>\n",
              "  <tbody>\n",
              "    <tr>\n",
              "      <th>2000-01-03</th>\n",
              "      <td>1.004464</td>\n",
              "      <td>0.907924</td>\n",
              "      <td>0.936384</td>\n",
              "      <td>0.999442</td>\n",
              "      <td>535796800.0</td>\n",
              "      <td>0.859423</td>\n",
              "    </tr>\n",
              "    <tr>\n",
              "      <th>2000-01-04</th>\n",
              "      <td>0.987723</td>\n",
              "      <td>0.903460</td>\n",
              "      <td>0.966518</td>\n",
              "      <td>0.915179</td>\n",
              "      <td>512377600.0</td>\n",
              "      <td>0.786965</td>\n",
              "    </tr>\n",
              "    <tr>\n",
              "      <th>2000-01-05</th>\n",
              "      <td>0.987165</td>\n",
              "      <td>0.919643</td>\n",
              "      <td>0.926339</td>\n",
              "      <td>0.928571</td>\n",
              "      <td>778321600.0</td>\n",
              "      <td>0.798481</td>\n",
              "    </tr>\n",
              "    <tr>\n",
              "      <th>2000-01-06</th>\n",
              "      <td>0.955357</td>\n",
              "      <td>0.848214</td>\n",
              "      <td>0.947545</td>\n",
              "      <td>0.848214</td>\n",
              "      <td>767972800.0</td>\n",
              "      <td>0.729382</td>\n",
              "    </tr>\n",
              "    <tr>\n",
              "      <th>2000-01-07</th>\n",
              "      <td>0.901786</td>\n",
              "      <td>0.852679</td>\n",
              "      <td>0.861607</td>\n",
              "      <td>0.888393</td>\n",
              "      <td>460734400.0</td>\n",
              "      <td>0.763932</td>\n",
              "    </tr>\n",
              "    <tr>\n",
              "      <th>...</th>\n",
              "      <td>...</td>\n",
              "      <td>...</td>\n",
              "      <td>...</td>\n",
              "      <td>...</td>\n",
              "      <td>...</td>\n",
              "      <td>...</td>\n",
              "    </tr>\n",
              "    <tr>\n",
              "      <th>2019-12-24</th>\n",
              "      <td>71.222504</td>\n",
              "      <td>70.730003</td>\n",
              "      <td>71.172501</td>\n",
              "      <td>71.067497</td>\n",
              "      <td>48478800.0</td>\n",
              "      <td>70.234581</td>\n",
              "    </tr>\n",
              "    <tr>\n",
              "      <th>2019-12-26</th>\n",
              "      <td>72.495003</td>\n",
              "      <td>71.175003</td>\n",
              "      <td>71.205002</td>\n",
              "      <td>72.477501</td>\n",
              "      <td>93121200.0</td>\n",
              "      <td>71.628067</td>\n",
              "    </tr>\n",
              "    <tr>\n",
              "      <th>2019-12-27</th>\n",
              "      <td>73.492500</td>\n",
              "      <td>72.029999</td>\n",
              "      <td>72.779999</td>\n",
              "      <td>72.449997</td>\n",
              "      <td>146266000.0</td>\n",
              "      <td>71.600876</td>\n",
              "    </tr>\n",
              "    <tr>\n",
              "      <th>2019-12-30</th>\n",
              "      <td>73.172501</td>\n",
              "      <td>71.305000</td>\n",
              "      <td>72.364998</td>\n",
              "      <td>72.879997</td>\n",
              "      <td>144114400.0</td>\n",
              "      <td>72.025833</td>\n",
              "    </tr>\n",
              "    <tr>\n",
              "      <th>2019-12-31</th>\n",
              "      <td>73.419998</td>\n",
              "      <td>72.379997</td>\n",
              "      <td>72.482498</td>\n",
              "      <td>73.412498</td>\n",
              "      <td>100805600.0</td>\n",
              "      <td>72.552094</td>\n",
              "    </tr>\n",
              "  </tbody>\n",
              "</table>\n",
              "<p>5031 rows × 6 columns</p>\n",
              "</div>"
            ],
            "text/plain": [
              "                 High        Low       Open      Close       Volume  Adj Close\n",
              "Date                                                                          \n",
              "2000-01-03   1.004464   0.907924   0.936384   0.999442  535796800.0   0.859423\n",
              "2000-01-04   0.987723   0.903460   0.966518   0.915179  512377600.0   0.786965\n",
              "2000-01-05   0.987165   0.919643   0.926339   0.928571  778321600.0   0.798481\n",
              "2000-01-06   0.955357   0.848214   0.947545   0.848214  767972800.0   0.729382\n",
              "2000-01-07   0.901786   0.852679   0.861607   0.888393  460734400.0   0.763932\n",
              "...               ...        ...        ...        ...          ...        ...\n",
              "2019-12-24  71.222504  70.730003  71.172501  71.067497   48478800.0  70.234581\n",
              "2019-12-26  72.495003  71.175003  71.205002  72.477501   93121200.0  71.628067\n",
              "2019-12-27  73.492500  72.029999  72.779999  72.449997  146266000.0  71.600876\n",
              "2019-12-30  73.172501  71.305000  72.364998  72.879997  144114400.0  72.025833\n",
              "2019-12-31  73.419998  72.379997  72.482498  73.412498  100805600.0  72.552094\n",
              "\n",
              "[5031 rows x 6 columns]"
            ]
          },
          "metadata": {
            "tags": []
          },
          "execution_count": 16
        }
      ]
    },
    {
      "cell_type": "markdown",
      "metadata": {
        "id": "KjjooPKGMLo6"
      },
      "source": [
        "PREPARE DATA"
      ]
    },
    {
      "cell_type": "code",
      "metadata": {
        "id": "gg7RE_dFMJca"
      },
      "source": [
        "#MinMaxScaler will scale the prices in the dataset to values between 0-1, this is\n",
        "#done to communicate time series data effectively to the model.\n",
        "scaler = MinMaxScaler(feature_range=(0,1))\n",
        "#focusing on only the close values, reshaped array for formatting purposes.\n",
        "scaled_data = scaler.fit_transform(data['Close'].values.reshape(-1,1))"
      ],
      "execution_count": null,
      "outputs": []
    },
    {
      "cell_type": "code",
      "metadata": {
        "id": "vZ10QjmGM7Ww"
      },
      "source": [
        "#use a specified number of days to predict future value\n",
        "lookback_days = 30"
      ],
      "execution_count": null,
      "outputs": []
    },
    {
      "cell_type": "code",
      "metadata": {
        "id": "_cYJCnIgM___"
      },
      "source": [
        "#training datasets\n",
        "x_train = []\n",
        "y_train = []\n",
        "\n",
        "#start counting from the lookback_days then continue till end of dataset\n",
        "for i in range(lookback_days, len(scaled_data)):\n",
        "  x_train.append(scaled_data[i-lookback_days:i, 0])\n",
        "  y_train.append(scaled_data[i, 0])\n",
        "\n",
        "#convert to numpy arrays\n",
        "x_train, y_train = np.array(x_train), np.array(y_train)\n",
        "#reshape x_train to work with the RNN\n",
        "x_train = np.reshape(x_train, (x_train.shape[0], x_train.shape[1], 1))"
      ],
      "execution_count": null,
      "outputs": []
    },
    {
      "cell_type": "markdown",
      "metadata": {
        "id": "jIH0LaKwOQbP"
      },
      "source": [
        "Building the LSTM model"
      ]
    },
    {
      "cell_type": "code",
      "metadata": {
        "colab": {
          "base_uri": "https://localhost:8080/"
        },
        "id": "r9GVXVQBOS2m",
        "outputId": "1567e3d9-9ea2-4c54-ad2a-713a95ba65e8"
      },
      "source": [
        "#Long Short-Term Memory Cell model structure, has 4 layers, implementing the combination\n",
        "#of LSTM and Dense cells, Model is inspired by the research paper by Murtaza Roondiwala 'Predicting Stock Prices Using LSTM'.\n",
        "\n",
        "model = Sequential()\n",
        "model.add(LSTM(128, input_shape=(x_train.shape[1],\n",
        "1), return_sequences=True))\n",
        "model.add(LSTM(64, input_shape=(x_train.shape[1],\n",
        "1), return_sequences=False))\n",
        "model.add(Dense(16,activation='relu'))\n",
        "model.add(Dense(1,activation='linear'))\n",
        "\n",
        "model.compile(optimizer='adam', loss='mean_squared_error')\n",
        "model.fit(x_train, y_train, epochs=1, batch_size=32)"
      ],
      "execution_count": null,
      "outputs": [
        {
          "output_type": "stream",
          "text": [
            "157/157 [==============================] - 10s 43ms/step - loss: 0.0068\n"
          ],
          "name": "stdout"
        },
        {
          "output_type": "execute_result",
          "data": {
            "text/plain": [
              "<tensorflow.python.keras.callbacks.History at 0x7f6ff3b85a50>"
            ]
          },
          "metadata": {
            "tags": []
          },
          "execution_count": 20
        }
      ]
    },
    {
      "cell_type": "markdown",
      "metadata": {
        "id": "Zc5u57doQO-E"
      },
      "source": [
        "Checking Model performance on existing data"
      ]
    },
    {
      "cell_type": "code",
      "metadata": {
        "colab": {
          "base_uri": "https://localhost:8080/",
          "height": 450
        },
        "id": "eRYHFItHQVlL",
        "outputId": "f5a3cc7c-aa34-419f-f3ee-1b7a8aadcae1"
      },
      "source": [
        "#prepare test data with specified time ranges.\n",
        "\n",
        "test_start = dt.datetime(2020, 1, 1)\n",
        "test_end = dt.datetime.now()\n",
        "\n",
        "test_data = pdr.DataReader(ticker, 'yahoo', test_start, test_end)\n",
        "real_prices = test_data['Close'].values\n",
        "\n",
        "total_dataset = pd.concat((data['Close'], test_data['Close']), axis=0)\n",
        "\n",
        "#assign the inputs to be placed in the model to test model performance.\n",
        "model_inputs = total_dataset[len(total_dataset) - len(test_data) - lookback_days:].values\n",
        "model_inputs = model_inputs.reshape(-1, 1)\n",
        "#transform the data to values between 0-1 again.\n",
        "model_inputs = scaler.transform(model_inputs)\n",
        "\n",
        "test_data"
      ],
      "execution_count": null,
      "outputs": [
        {
          "output_type": "execute_result",
          "data": {
            "text/html": [
              "<div>\n",
              "<style scoped>\n",
              "    .dataframe tbody tr th:only-of-type {\n",
              "        vertical-align: middle;\n",
              "    }\n",
              "\n",
              "    .dataframe tbody tr th {\n",
              "        vertical-align: top;\n",
              "    }\n",
              "\n",
              "    .dataframe thead th {\n",
              "        text-align: right;\n",
              "    }\n",
              "</style>\n",
              "<table border=\"1\" class=\"dataframe\">\n",
              "  <thead>\n",
              "    <tr style=\"text-align: right;\">\n",
              "      <th></th>\n",
              "      <th>High</th>\n",
              "      <th>Low</th>\n",
              "      <th>Open</th>\n",
              "      <th>Close</th>\n",
              "      <th>Volume</th>\n",
              "      <th>Adj Close</th>\n",
              "    </tr>\n",
              "    <tr>\n",
              "      <th>Date</th>\n",
              "      <th></th>\n",
              "      <th></th>\n",
              "      <th></th>\n",
              "      <th></th>\n",
              "      <th></th>\n",
              "      <th></th>\n",
              "    </tr>\n",
              "  </thead>\n",
              "  <tbody>\n",
              "    <tr>\n",
              "      <th>2020-01-02</th>\n",
              "      <td>75.150002</td>\n",
              "      <td>73.797501</td>\n",
              "      <td>74.059998</td>\n",
              "      <td>75.087502</td>\n",
              "      <td>135480400.0</td>\n",
              "      <td>74.207466</td>\n",
              "    </tr>\n",
              "    <tr>\n",
              "      <th>2020-01-03</th>\n",
              "      <td>75.144997</td>\n",
              "      <td>74.125000</td>\n",
              "      <td>74.287498</td>\n",
              "      <td>74.357498</td>\n",
              "      <td>146322800.0</td>\n",
              "      <td>73.486023</td>\n",
              "    </tr>\n",
              "    <tr>\n",
              "      <th>2020-01-06</th>\n",
              "      <td>74.989998</td>\n",
              "      <td>73.187500</td>\n",
              "      <td>73.447502</td>\n",
              "      <td>74.949997</td>\n",
              "      <td>118387200.0</td>\n",
              "      <td>74.071579</td>\n",
              "    </tr>\n",
              "    <tr>\n",
              "      <th>2020-01-07</th>\n",
              "      <td>75.224998</td>\n",
              "      <td>74.370003</td>\n",
              "      <td>74.959999</td>\n",
              "      <td>74.597504</td>\n",
              "      <td>108872000.0</td>\n",
              "      <td>73.723213</td>\n",
              "    </tr>\n",
              "    <tr>\n",
              "      <th>2020-01-08</th>\n",
              "      <td>76.110001</td>\n",
              "      <td>74.290001</td>\n",
              "      <td>74.290001</td>\n",
              "      <td>75.797501</td>\n",
              "      <td>132079200.0</td>\n",
              "      <td>74.909149</td>\n",
              "    </tr>\n",
              "    <tr>\n",
              "      <th>...</th>\n",
              "      <td>...</td>\n",
              "      <td>...</td>\n",
              "      <td>...</td>\n",
              "      <td>...</td>\n",
              "      <td>...</td>\n",
              "      <td>...</td>\n",
              "    </tr>\n",
              "    <tr>\n",
              "      <th>2021-05-12</th>\n",
              "      <td>124.639999</td>\n",
              "      <td>122.250000</td>\n",
              "      <td>123.400002</td>\n",
              "      <td>122.769997</td>\n",
              "      <td>112172300.0</td>\n",
              "      <td>122.769997</td>\n",
              "    </tr>\n",
              "    <tr>\n",
              "      <th>2021-05-13</th>\n",
              "      <td>126.150002</td>\n",
              "      <td>124.260002</td>\n",
              "      <td>124.580002</td>\n",
              "      <td>124.970001</td>\n",
              "      <td>105861300.0</td>\n",
              "      <td>124.970001</td>\n",
              "    </tr>\n",
              "    <tr>\n",
              "      <th>2021-05-14</th>\n",
              "      <td>127.889999</td>\n",
              "      <td>125.849998</td>\n",
              "      <td>126.250000</td>\n",
              "      <td>127.449997</td>\n",
              "      <td>81806500.0</td>\n",
              "      <td>127.449997</td>\n",
              "    </tr>\n",
              "    <tr>\n",
              "      <th>2021-05-17</th>\n",
              "      <td>126.930000</td>\n",
              "      <td>125.169998</td>\n",
              "      <td>126.820000</td>\n",
              "      <td>126.269997</td>\n",
              "      <td>74244600.0</td>\n",
              "      <td>126.269997</td>\n",
              "    </tr>\n",
              "    <tr>\n",
              "      <th>2021-05-18</th>\n",
              "      <td>126.989998</td>\n",
              "      <td>124.779999</td>\n",
              "      <td>126.559998</td>\n",
              "      <td>124.849998</td>\n",
              "      <td>63130600.0</td>\n",
              "      <td>124.849998</td>\n",
              "    </tr>\n",
              "  </tbody>\n",
              "</table>\n",
              "<p>347 rows × 6 columns</p>\n",
              "</div>"
            ],
            "text/plain": [
              "                  High         Low  ...       Volume   Adj Close\n",
              "Date                                ...                         \n",
              "2020-01-02   75.150002   73.797501  ...  135480400.0   74.207466\n",
              "2020-01-03   75.144997   74.125000  ...  146322800.0   73.486023\n",
              "2020-01-06   74.989998   73.187500  ...  118387200.0   74.071579\n",
              "2020-01-07   75.224998   74.370003  ...  108872000.0   73.723213\n",
              "2020-01-08   76.110001   74.290001  ...  132079200.0   74.909149\n",
              "...                ...         ...  ...          ...         ...\n",
              "2021-05-12  124.639999  122.250000  ...  112172300.0  122.769997\n",
              "2021-05-13  126.150002  124.260002  ...  105861300.0  124.970001\n",
              "2021-05-14  127.889999  125.849998  ...   81806500.0  127.449997\n",
              "2021-05-17  126.930000  125.169998  ...   74244600.0  126.269997\n",
              "2021-05-18  126.989998  124.779999  ...   63130600.0  124.849998\n",
              "\n",
              "[347 rows x 6 columns]"
            ]
          },
          "metadata": {
            "tags": []
          },
          "execution_count": 21
        }
      ]
    },
    {
      "cell_type": "markdown",
      "metadata": {
        "id": "YvxyUe9yTwXv"
      },
      "source": [
        "Make Predictions on Test Data"
      ]
    },
    {
      "cell_type": "code",
      "metadata": {
        "id": "ALR2uQAnTyLL"
      },
      "source": [
        "#Test data array\n",
        "x_test = []\n",
        "\n",
        "for i in range(lookback_days, len(model_inputs)):\n",
        "  x_test.append(model_inputs[i-lookback_days:i, 0])\n",
        "\n",
        "x_test = np.array(x_test)\n",
        "x_test = np.reshape(x_test, (x_test.shape[0], x_test.shape[1], 1))\n",
        "\n",
        "predicted_prices = model.predict(x_test)\n",
        "#need to inverse transform the prices back to readable format\n",
        "predicted_prices = scaler.inverse_transform(predicted_prices)"
      ],
      "execution_count": null,
      "outputs": []
    },
    {
      "cell_type": "markdown",
      "metadata": {
        "id": "1bHI5h2uUjI2"
      },
      "source": [
        "Plot the Test data predictions"
      ]
    },
    {
      "cell_type": "code",
      "metadata": {
        "colab": {
          "base_uri": "https://localhost:8080/",
          "height": 295
        },
        "id": "cTn7kj8uUld6",
        "outputId": "c4b51212-ed25-48e3-c418-7822551d34ee"
      },
      "source": [
        "plt.plot(real_prices, color='blue', label=f\"Actual {ticker} Close Price\")\n",
        "plt.plot(predicted_prices, color='green', label=f\"Predicted {ticker} Close Price\")\n",
        "plt.title(f\"LSTM {ticker} Share Close Price\")\n",
        "plt.xlabel('Time')\n",
        "plt.ylabel(f'{ticker} Share Close Price')\n",
        "plt.legend()\n",
        "plt.show()"
      ],
      "execution_count": null,
      "outputs": [
        {
          "output_type": "display_data",
          "data": {
            "image/png": "[encoded data removed]",
            "text/plain": [
              "<Figure size 432x288 with 1 Axes>"
            ]
          },
          "metadata": {
            "tags": [],
            "needs_background": "light"
          }
        }
      ]
    },
    {
      "cell_type": "markdown",
      "metadata": {
        "id": "OoDdqQs7lrSE"
      },
      "source": [
        "#Predict next day"
      ]
    },
    {
      "cell_type": "code",
      "metadata": {
        "colab": {
          "base_uri": "https://localhost:8080/"
        },
        "id": "JgqKaHpaluKM",
        "outputId": "accb6329-4b30-4b3d-e91d-9cb3e719989a"
      },
      "source": [
        "#Predict the following day's closing price.\n",
        "start_date = dt.datetime.now()\n",
        "\n",
        "real_data = [model_inputs[len(model_inputs) - lookback_days:len(model_inputs), 0]]\n",
        "real_data = np.array(real_data)\n",
        "real_data = np.reshape(real_data, (real_data.shape[0], real_data.shape[1], 1))\n",
        "\n",
        "prediction = model.predict(real_data)\n",
        "#inverse transform the values from 0-1 to real values for interpretability.\n",
        "prediction = scaler.inverse_transform(prediction)\n",
        "print(f\"Close Prediction for the next market day AFTER:{start_date} is: {prediction}\")"
      ],
      "execution_count": null,
      "outputs": [
        {
          "output_type": "stream",
          "text": [
            "Close Prediction for the next market day AFTER:2021-05-19 13:28:37.260236 is: [[115.16106]]\n"
          ],
          "name": "stdout"
        }
      ]
    }
  ]
}